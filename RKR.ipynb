{
 "cells": [
  {
   "cell_type": "code",
   "execution_count": 440,
   "id": "f218844b",
   "metadata": {},
   "outputs": [],
   "source": [
    "import re"
   ]
  },
  {
   "cell_type": "code",
   "execution_count": 441,
   "id": "1207cf99",
   "metadata": {},
   "outputs": [
    {
     "name": "stdout",
     "output_type": "stream",
     "text": [
      "Forward Facts: {'seeds': '0', 'diameter': '7', 'skin_smell': True, 'color': 'orange'}\n",
      "Backward Facts: {'seeds': '0', 'diameter': '7', 'skin_smell': True, 'color': 'orange'}\n"
     ]
    }
   ],
   "source": [
    "def parse_facts(path):\n",
    "    parsed_facts = []\n",
    "    with open(path, 'r') as file:\n",
    "        for line in file:\n",
    "            parsed_facts.append(re.split(r'\\s+', line.strip()))\n",
    "    facts = {}\n",
    "    for fact in parsed_facts:\n",
    "        if len(fact) == 1:\n",
    "            facts[fact[0]] = True\n",
    "        elif len(fact) == 3:\n",
    "            facts[fact[0]] = fact[2]\n",
    "    return facts\n",
    "forward_facts = parse_facts('facts.txt')\n",
    "backward_facts = parse_facts('facts.txt')\n",
    "\n",
    "print(\"Forward Facts:\" ,forward_facts)\n",
    "print(\"Backward Facts:\" ,backward_facts)"
   ]
  },
  {
   "cell_type": "code",
   "execution_count": 442,
   "id": "c02904ec",
   "metadata": {},
   "outputs": [
    {
     "name": "stdout",
     "output_type": "stream",
     "text": [
      "Rules: ['IF shape is long AND color is yellow THEN fruit is banana', 'IF shape is round AND color is red AND size is medium THEN fruit is apple', 'IF shape is round AND color is red AND size is small THEN fruit is cherry', 'IF skin_smell THEN perfumed', 'IF fruit is lemon OR fruit is orange OR fruit is pomelo OR fruit is grapefruit THEN citrus_fruit', 'IF size is medium AND color is yellow AND perfumed THEN fruit is lemon', 'IF size is medium AND color is green THEN fruit is kiwi', 'IF size is big AND perfumed AND color is orange AND citrus_fruit THEN fruit is grapefruit', 'IF perfumed AND color is orange AND size is medium THEN fruit is orange', 'IF perfumed AND color is red AND size is small AND seeds = 0 THEN fruit is strawberry', 'IF diameter < 2 THEN size is small', 'IF diameter > 10 THEN size is big', 'IF diameter > 2 AND diameter < 10 THEN size is medium']\n",
      "Conditions: ['shape is long AND color is yellow', 'shape is round AND color is red AND size is medium', 'shape is round AND color is red AND size is small', 'skin_smell', 'fruit is lemon OR fruit is orange OR fruit is pomelo OR fruit is grapefruit', 'size is medium AND color is yellow AND perfumed', 'size is medium AND color is green', 'size is big AND perfumed AND color is orange AND citrus_fruit', 'perfumed AND color is orange AND size is medium', 'perfumed AND color is red AND size is small AND seeds = 0', 'diameter < 2', 'diameter > 10', 'diameter > 2 AND diameter < 10']\n",
      "Conclutions: ['fruit is banana', 'fruit is apple', 'fruit is cherry', 'perfumed', 'citrus_fruit', 'fruit is lemon', 'fruit is kiwi', 'fruit is grapefruit', 'fruit is orange', 'fruit is strawberry', 'size is small', 'size is big', 'size is medium']\n"
     ]
    }
   ],
   "source": [
    "def parse_rules(path):\n",
    "    parsed_rules = []\n",
    "    with open(path, 'r') as rules:\n",
    "        lines = rules.readlines()  \n",
    "        for line in lines:\n",
    "            parsed_rules.append(line.strip())\n",
    "\n",
    "    condition = []\n",
    "    conclusion = []\n",
    "    for i in parsed_rules:  \n",
    "        if \"IF\" in i and \"THEN\" in i:\n",
    "            cond = i.split(\"IF\")[1].split(\"THEN\")[0].strip()\n",
    "            concl = i.split(\"THEN\")[1].strip()\n",
    "            condition.append(cond)\n",
    "            conclusion.append(concl)\n",
    "\n",
    "    return parsed_rules, condition, conclusion\n",
    "\n",
    "rules, condition, conclusion = parse_rules('rules.txt')\n",
    "print(\"Rules:\",rules)\n",
    "print(\"Conditions:\",condition)\n",
    "print(\"Conclutions:\" ,conclusion)"
   ]
  },
  {
   "cell_type": "code",
   "execution_count": 443,
   "id": "63a774d6",
   "metadata": {},
   "outputs": [],
   "source": [
    "def evaluate_expression(expr, facts):\n",
    "    expr = expr.strip()\n",
    "\n",
    "    match = re.match(r'(\\w+)\\s*(|<|>)\\s*(\\d+)', expr)\n",
    "    if match:\n",
    "        key, op, val = match.groups()\n",
    "        if key not in facts:\n",
    "            return False\n",
    "        try:\n",
    "            f_val = float(facts[key])\n",
    "            val = float(val)\n",
    "            if op == '<': return f_val < val\n",
    "            if op == '>': return f_val > val\n",
    "            if op == '<=': return f_val <= val\n",
    "            if op == '>=': return f_val >= val\n",
    "        except:\n",
    "            return False\n",
    "\n",
    "    if \" is \" in expr:\n",
    "        key, val = expr.split(\" is \")\n",
    "        return facts.get(key) == val\n",
    "    \n",
    "    return facts.get(expr, False)"
   ]
  },
  {
   "cell_type": "code",
   "execution_count": 444,
   "id": "59e94181",
   "metadata": {},
   "outputs": [],
   "source": [
    "def match_condition(cond_str, facts):\n",
    "    or_clauses = cond_str.split(\"OR\")\n",
    "    \n",
    "    for or_clause in or_clauses:\n",
    "        and_parts = or_clause.split(\"AND\")\n",
    "        all_true = True\n",
    "        \n",
    "        for part in and_parts:\n",
    "            if not evaluate_expression(part.strip(), facts):\n",
    "                all_true = False\n",
    "                break\n",
    "        \n",
    "        if all_true:\n",
    "            return True\n",
    "    \n",
    "    return False"
   ]
  },
  {
   "cell_type": "code",
   "execution_count": 445,
   "id": "11e6f460",
   "metadata": {},
   "outputs": [
    {
     "name": "stdout",
     "output_type": "stream",
     "text": [
      "perfumed = True : Inferred in cycle 1\n",
      "Facts: {'seeds': '0', 'diameter': '7', 'skin_smell': True, 'color': 'orange', 'perfumed': True}\n",
      "size = medium : Inferred in cycle 1\n",
      "Facts: {'seeds': '0', 'diameter': '7', 'skin_smell': True, 'color': 'orange', 'perfumed': True, 'size': 'medium'}\n",
      "fruit = orange : Inferred in cycle 2\n",
      "Facts: {'seeds': '0', 'diameter': '7', 'skin_smell': True, 'color': 'orange', 'perfumed': True, 'size': 'medium', 'fruit': 'orange'}\n",
      "citrus_fruit = True : Inferred in cycle 3\n",
      "Facts: {'seeds': '0', 'diameter': '7', 'skin_smell': True, 'color': 'orange', 'perfumed': True, 'size': 'medium', 'fruit': 'orange', 'citrus_fruit': True}\n",
      "---------------------------------------------------------------------------------------------------------------------------------------------------------------\n",
      "Final Facts: {'seeds': '0', 'diameter': '7', 'skin_smell': True, 'color': 'orange', 'perfumed': True, 'size': 'medium', 'fruit': 'orange', 'citrus_fruit': True}\n"
     ]
    }
   ],
   "source": [
    "def forward_chaining(facts, conditions, conclusions):\n",
    "    added = True\n",
    "    cycle = 0\n",
    "    while added:\n",
    "        cycle += 1\n",
    "        added = False\n",
    "\n",
    "        for i in range(len(conditions)):\n",
    "            if match_condition(conditions[i], facts):\n",
    "                if \" is \" in conclusions[i]:\n",
    "                    key, val = conclusions[i].split(\" is \")\n",
    "                else:\n",
    "                    key, val = conclusions[i], True\n",
    "\n",
    "                if key not in facts:\n",
    "                    facts[key] = val\n",
    "                    print(f\"{key} = {val} : Inferred in cycle {cycle}\")\n",
    "                    print(\"Facts:\", facts)\n",
    "                    added = True\n",
    "                    \n",
    "    return facts\n",
    "\n",
    "results = forward_chaining(forward_facts, condition, conclusion)\n",
    "print(\"---------------------------------------------------------------------------------------------------------------------------------------------------------------\")\n",
    "print(\"Final Facts:\", forward_facts)"
   ]
  },
  {
   "cell_type": "code",
   "execution_count": 446,
   "id": "221d3060",
   "metadata": {},
   "outputs": [
    {
     "name": "stdout",
     "output_type": "stream",
     "text": [
      "Sub-goal: fruit = lemon in cycle 2\n",
      "-------------------------\n",
      "Facts: {'seeds': '0', 'diameter': '7', 'skin_smell': True, 'color': 'orange'}\n",
      "Sub-goal: size = medium in cycle 3\n",
      "-------------------------\n",
      "Facts: {'seeds': '0', 'diameter': '7', 'skin_smell': True, 'color': 'orange'}\n",
      "size = medium : Inferred in cycle 4\n",
      "-------------------------\n",
      "Facts: {'seeds': '0', 'diameter': '7', 'skin_smell': True, 'color': 'orange', 'size': 'medium'}\n",
      "Sub-goal: color = yellow in cycle 5\n",
      "-------------------------\n",
      "Facts: {'seeds': '0', 'diameter': '7', 'skin_smell': True, 'color': 'orange', 'size': 'medium'}\n",
      "Sub-goal: fruit = orange in cycle 6\n",
      "-------------------------\n",
      "Facts: {'seeds': '0', 'diameter': '7', 'skin_smell': True, 'color': 'orange', 'size': 'medium'}\n",
      "Sub-goal: perfumed in cycle 7\n",
      "-------------------------\n",
      "Facts: {'seeds': '0', 'diameter': '7', 'skin_smell': True, 'color': 'orange', 'size': 'medium'}\n",
      "perfumed = True : Inferred in cycle 8\n",
      "-------------------------\n",
      "Facts: {'seeds': '0', 'diameter': '7', 'skin_smell': True, 'color': 'orange', 'size': 'medium', 'perfumed': True}\n",
      "fruit = orange : Inferred in cycle 9\n",
      "-------------------------\n",
      "Facts: {'seeds': '0', 'diameter': '7', 'skin_smell': True, 'color': 'orange', 'size': 'medium', 'perfumed': True, 'fruit': 'orange'}\n",
      "citrus_fruit = True : Inferred in cycle 10\n",
      "-------------------------\n",
      "Facts: {'seeds': '0', 'diameter': '7', 'skin_smell': True, 'color': 'orange', 'size': 'medium', 'perfumed': True, 'fruit': 'orange', 'citrus_fruit': True}\n",
      "-------------------------------------------\n",
      "Final Facts: {'seeds': '0', 'diameter': '7', 'skin_smell': True, 'color': 'orange', 'size': 'medium', 'perfumed': True, 'fruit': 'orange', 'citrus_fruit': True}\n"
     ]
    }
   ],
   "source": [
    "def backward_chain_chaining(goal, facts, conditions, conclusions, visited=None, cycle_counter=None):\n",
    "    if visited is None:\n",
    "        visited = set()\n",
    "        \n",
    "    if cycle_counter is None:\n",
    "        cycle_counter = {\"count\": 1}\n",
    "\n",
    "    cycle_counter[\"count\"] += 1  \n",
    "\n",
    "    if goal in visited:\n",
    "        return False  \n",
    "\n",
    "    if goal in facts:\n",
    "        return True\n",
    "\n",
    "    visited.add(goal)\n",
    "\n",
    "    for i in range(len(conclusions)):\n",
    "        if goal in conclusions[i]:\n",
    "            or_clauses = conditions[i].split(\"OR\")\n",
    "            for or_clause in or_clauses:\n",
    "                and_parts = or_clause.strip().split(\"AND\")\n",
    "                all_true = True\n",
    "                for part in and_parts:\n",
    "                    part = part.strip()\n",
    "                    if not evaluate_expression(part, facts):\n",
    "                        if \" is \" in part:\n",
    "                            value , sub_goal = part.split(\" is \")\n",
    "                            print(f\"Sub-goal: {value} = {sub_goal} in cycle {cycle_counter['count']}\")    \n",
    "\n",
    "                        else:\n",
    "                            sub_goal = part\n",
    "                            print(f\"Sub-goal: {sub_goal} in cycle {cycle_counter['count']}\")   \n",
    "                        print(\"-------------------------\")    \n",
    "                        print(\"Facts:\", facts)     \n",
    "\n",
    "                        if not backward_chain_chaining(sub_goal.strip(), facts, conditions, conclusions, visited, cycle_counter):\n",
    "                            all_true = False\n",
    "                            break\n",
    "                if all_true:\n",
    "                    if match_condition(conditions[i], facts):\n",
    "                        if \" is \" in conclusions[i]:\n",
    "                            key, val = conclusions[i].split(\" is \")\n",
    "                            val = val.strip()\n",
    "                        else:\n",
    "                            key, val = conclusions[i], True\n",
    "                        key = key.strip()\n",
    "\n",
    "                        if key not in facts:\n",
    "                            facts[key] = val\n",
    "                            print(f\"{key} = {val} : Inferred in cycle {cycle_counter['count']}\")\n",
    "                            visited.add(key)\n",
    "                            cycle_counter[\"count\"] += 1\n",
    "                            print(\"-------------------------\")    \n",
    "                            print(\"Facts:\", facts)\n",
    "        \n",
    "                        return True\n",
    "\n",
    "    return False\n",
    "\n",
    "results = backward_chain_chaining('citrus_fruit', backward_facts, condition, conclusion, cycle_counter= None)\n",
    "\n",
    "print(\"-------------------------------------------\")\n",
    "print(\"Final Facts:\", backward_facts)"
   ]
  }
 ],
 "metadata": {
  "kernelspec": {
   "display_name": "Python 3",
   "language": "python",
   "name": "python3"
  },
  "language_info": {
   "codemirror_mode": {
    "name": "ipython",
    "version": 3
   },
   "file_extension": ".py",
   "mimetype": "text/x-python",
   "name": "python",
   "nbconvert_exporter": "python",
   "pygments_lexer": "ipython3",
   "version": "3.12.4"
  }
 },
 "nbformat": 4,
 "nbformat_minor": 5
}
